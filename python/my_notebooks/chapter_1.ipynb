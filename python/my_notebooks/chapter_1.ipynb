{
 "cells": [
  {
   "cell_type": "code",
   "execution_count": 26,
   "metadata": {},
   "outputs": [
    {
     "data": {
      "text/plain": [
       "0.05    1.600\n",
       "0.25    2.425\n",
       "0.50    4.000\n",
       "0.75    5.550\n",
       "0.95    6.510\n",
       "Name: Murder.Rate, dtype: float64"
      ]
     },
     "execution_count": 26,
     "metadata": {},
     "output_type": "execute_result"
    }
   ],
   "source": [
    "import pandas as pd\n",
    "\n",
    "data = pd.read_csv(\"../../data/state.csv\")\n",
    "\n",
    "\n",
    "data[\"Murder.Rate\"].quantile([0.05, 0.25, 0.5, 0.75, 0.95])"
   ]
  },
  {
   "cell_type": "code",
   "execution_count": 27,
   "metadata": {},
   "outputs": [
    {
     "name": "stdout",
     "output_type": "stream",
     "text": [
      "3.125\n"
     ]
    }
   ],
   "source": [
    "iqr = data[\"Murder.Rate\"].quantile(.75) - data[\"Murder.Rate\"].quantile(.25)\n",
    "print(iqr)"
   ]
  },
  {
   "cell_type": "code",
   "execution_count": 28,
   "metadata": {},
   "outputs": [
    {
     "name": "stdout",
     "output_type": "stream",
     "text": [
      "Median (mln): 4.4363695\n",
      "Mean (mln): 6.1628763\n",
      "Std: 6848235.347401142\n"
     ]
    }
   ],
   "source": [
    "median = data[\"Population\"].median()\n",
    "print(f\"Median (mln): {median / 1_000_000}\")\n",
    "mean = data[\"Population\"].mean()\n",
    "print(f\"Mean (mln): {mean / 1_000_000}\")\n",
    "std = data[\"Population\"].std()\n",
    "print(f\"Std: {std}\")"
   ]
  },
  {
   "attachments": {},
   "cell_type": "markdown",
   "metadata": {},
   "source": [
    "<h3>Population</h3>"
   ]
  },
  {
   "cell_type": "code",
   "execution_count": 29,
   "metadata": {},
   "outputs": [
    {
     "data": {
      "text/plain": [
       "0.05      689529.00\n",
       "0.25     1833004.25\n",
       "0.50     4436369.50\n",
       "0.75     6680312.25\n",
       "0.95    19118545.60\n",
       "Name: Population, dtype: float64"
      ]
     },
     "execution_count": 29,
     "metadata": {},
     "output_type": "execute_result"
    }
   ],
   "source": [
    "data[\"Population\"].quantile([0.05, 0.25, 0.5, 0.75, 0.95])"
   ]
  },
  {
   "attachments": {},
   "cell_type": "markdown",
   "metadata": {},
   "source": [
    "<h1>Visualization</h1>"
   ]
  },
  {
   "cell_type": "code",
   "execution_count": 30,
   "metadata": {},
   "outputs": [],
   "source": [
    "import matplotlib.pylab as plt"
   ]
  },
  {
   "cell_type": "code",
   "execution_count": 31,
   "metadata": {},
   "outputs": [
    {
     "data": {
      "image/png": "[encoded data removed]",
      "text/plain": [
       "<Figure size 300x400 with 1 Axes>"
      ]
     },
     "metadata": {},
     "output_type": "display_data"
    }
   ],
   "source": [
    "ax = (data['Population']/1_000_000).plot.box(figsize=(3, 4))\n",
    "ax.set_ylabel('Population (millions)')\n",
    "\n",
    "plt.tight_layout()\n",
    "plt.show()"
   ]
  },
  {
   "cell_type": "code",
   "execution_count": 32,
   "metadata": {},
   "outputs": [],
   "source": [
    "split_state = []\n",
    "pop_len = data[\"Population\"].count()\n",
    "half_pop = int(pop_len/2)\n",
    "split_state.append(data[\"Population\"][:half_pop])\n",
    "split_state.append(data[\"Population\"][half_pop:])\n"
   ]
  },
  {
   "cell_type": "code",
   "execution_count": 33,
   "metadata": {},
   "outputs": [
    {
     "data": {
      "image/png": "[encoded data removed]",
      "text/plain": [
       "<Figure size 640x480 with 1 Axes>"
      ]
     },
     "metadata": {},
     "output_type": "display_data"
    }
   ],
   "source": [
    "data_splitted = pd.DataFrame({\"Box1\": split_state[0], \"Box2\": split_state[1]})\n",
    "ax = data_splitted[['Box1', 'Box2']].plot(kind='box', title='boxplot')\n",
    "\n",
    "plt.show()"
   ]
  },
  {
   "attachments": {},
   "cell_type": "markdown",
   "metadata": {},
   "source": [
    "<h1>Friquency Table</h1>"
   ]
  },
  {
   "cell_type": "code",
   "execution_count": 50,
   "metadata": {},
   "outputs": [
    {
     "name": "stdout",
     "output_type": "stream",
     "text": [
      "(526935.67, 4232659.0]      24\n",
      "(4232659.0, 7901692.0]      14\n",
      "(7901692.0, 11570725.0]      6\n",
      "(11570725.0, 15239758.0]     2\n",
      "(15239758.0, 18908791.0]     1\n",
      "(18908791.0, 22577824.0]     1\n",
      "(22577824.0, 26246857.0]     1\n",
      "(33584923.0, 37253956.0]     1\n",
      "(26246857.0, 29915890.0]     0\n",
      "(29915890.0, 33584923.0]     0\n",
      "Name: Population, dtype: int64\n",
      "0       (4232659.0, 7901692.0]\n",
      "1       (526935.67, 4232659.0]\n",
      "2       (4232659.0, 7901692.0]\n",
      "3       (526935.67, 4232659.0]\n",
      "4     (33584923.0, 37253956.0]\n",
      "5       (4232659.0, 7901692.0]\n",
      "6       (526935.67, 4232659.0]\n",
      "7       (526935.67, 4232659.0]\n",
      "8     (15239758.0, 18908791.0]\n",
      "9      (7901692.0, 11570725.0]\n",
      "10      (526935.67, 4232659.0]\n",
      "11      (526935.67, 4232659.0]\n",
      "12    (11570725.0, 15239758.0]\n",
      "13      (4232659.0, 7901692.0]\n",
      "14      (526935.67, 4232659.0]\n",
      "15      (526935.67, 4232659.0]\n",
      "16      (4232659.0, 7901692.0]\n",
      "17      (4232659.0, 7901692.0]\n",
      "18      (526935.67, 4232659.0]\n",
      "19      (4232659.0, 7901692.0]\n",
      "20      (4232659.0, 7901692.0]\n",
      "21     (7901692.0, 11570725.0]\n",
      "22      (4232659.0, 7901692.0]\n",
      "23      (526935.67, 4232659.0]\n",
      "24      (4232659.0, 7901692.0]\n",
      "25      (526935.67, 4232659.0]\n",
      "26      (526935.67, 4232659.0]\n",
      "27      (526935.67, 4232659.0]\n",
      "28      (526935.67, 4232659.0]\n",
      "29     (7901692.0, 11570725.0]\n",
      "30      (526935.67, 4232659.0]\n",
      "31    (18908791.0, 22577824.0]\n",
      "32     (7901692.0, 11570725.0]\n",
      "33      (526935.67, 4232659.0]\n",
      "34     (7901692.0, 11570725.0]\n",
      "35      (526935.67, 4232659.0]\n",
      "36      (526935.67, 4232659.0]\n",
      "37    (11570725.0, 15239758.0]\n",
      "38      (526935.67, 4232659.0]\n",
      "39      (4232659.0, 7901692.0]\n",
      "40      (526935.67, 4232659.0]\n",
      "41      (4232659.0, 7901692.0]\n",
      "42    (22577824.0, 26246857.0]\n",
      "43      (526935.67, 4232659.0]\n",
      "44      (526935.67, 4232659.0]\n",
      "45     (7901692.0, 11570725.0]\n",
      "46      (4232659.0, 7901692.0]\n",
      "47      (526935.67, 4232659.0]\n",
      "48      (4232659.0, 7901692.0]\n",
      "49      (526935.67, 4232659.0]\n",
      "Name: Population, dtype: category\n",
      "Categories (10, interval[float64, right]): [(526935.67, 4232659.0] < (4232659.0, 7901692.0] < (7901692.0, 11570725.0] < (11570725.0, 15239758.0] ... (22577824.0, 26246857.0] < (26246857.0, 29915890.0] < (29915890.0, 33584923.0] < (33584923.0, 37253956.0]]\n"
     ]
    }
   ],
   "source": [
    "bins = pd.cut(data[\"Population\"], 10)\n",
    "print(bins.value_counts())\n",
    "\n",
    "# data.sort_values(by=[\"Population\"], inplace=True)\n",
    "# data"
   ]
  },
  {
   "cell_type": "code",
   "execution_count": 51,
   "metadata": {},
   "outputs": [
    {
     "name": "stdout",
     "output_type": "stream",
     "text": [
      "0       (4232659.0, 7901692.0]\n",
      "1       (526935.67, 4232659.0]\n",
      "2       (4232659.0, 7901692.0]\n",
      "3       (526935.67, 4232659.0]\n",
      "4     (33584923.0, 37253956.0]\n",
      "5       (4232659.0, 7901692.0]\n",
      "6       (526935.67, 4232659.0]\n",
      "7       (526935.67, 4232659.0]\n",
      "8     (15239758.0, 18908791.0]\n",
      "9      (7901692.0, 11570725.0]\n",
      "10      (526935.67, 4232659.0]\n",
      "11      (526935.67, 4232659.0]\n",
      "12    (11570725.0, 15239758.0]\n",
      "13      (4232659.0, 7901692.0]\n",
      "14      (526935.67, 4232659.0]\n",
      "15      (526935.67, 4232659.0]\n",
      "16      (4232659.0, 7901692.0]\n",
      "17      (4232659.0, 7901692.0]\n",
      "18      (526935.67, 4232659.0]\n",
      "19      (4232659.0, 7901692.0]\n",
      "20      (4232659.0, 7901692.0]\n",
      "21     (7901692.0, 11570725.0]\n",
      "22      (4232659.0, 7901692.0]\n",
      "23      (526935.67, 4232659.0]\n",
      "24      (4232659.0, 7901692.0]\n",
      "25      (526935.67, 4232659.0]\n",
      "26      (526935.67, 4232659.0]\n",
      "27      (526935.67, 4232659.0]\n",
      "28      (526935.67, 4232659.0]\n",
      "29     (7901692.0, 11570725.0]\n",
      "30      (526935.67, 4232659.0]\n",
      "31    (18908791.0, 22577824.0]\n",
      "32     (7901692.0, 11570725.0]\n",
      "33      (526935.67, 4232659.0]\n",
      "34     (7901692.0, 11570725.0]\n",
      "35      (526935.67, 4232659.0]\n",
      "36      (526935.67, 4232659.0]\n",
      "37    (11570725.0, 15239758.0]\n",
      "38      (526935.67, 4232659.0]\n",
      "39      (4232659.0, 7901692.0]\n",
      "40      (526935.67, 4232659.0]\n",
      "41      (4232659.0, 7901692.0]\n",
      "42    (22577824.0, 26246857.0]\n",
      "43      (526935.67, 4232659.0]\n",
      "44      (526935.67, 4232659.0]\n",
      "45     (7901692.0, 11570725.0]\n",
      "46      (4232659.0, 7901692.0]\n",
      "47      (526935.67, 4232659.0]\n",
      "48      (4232659.0, 7901692.0]\n",
      "49      (526935.67, 4232659.0]\n",
      "Name: Population, dtype: category\n",
      "Categories (10, interval[float64, right]): [(526935.67, 4232659.0] < (4232659.0, 7901692.0] < (7901692.0, 11570725.0] < (11570725.0, 15239758.0] ... (22577824.0, 26246857.0] < (26246857.0, 29915890.0] < (29915890.0, 33584923.0] < (33584923.0, 37253956.0]]\n"
     ]
    }
   ],
   "source": [
    "print(bins)"
   ]
  },
  {
   "cell_type": "code",
   "execution_count": 52,
   "metadata": {},
   "outputs": [
    {
     "name": "stdout",
     "output_type": "stream",
     "text": [
      "                   BinRange  Count  \\\n",
      "0    (526935.67, 4232659.0]     24   \n",
      "1    (4232659.0, 7901692.0]     14   \n",
      "2   (7901692.0, 11570725.0]      6   \n",
      "3  (11570725.0, 15239758.0]      2   \n",
      "4  (15239758.0, 18908791.0]      1   \n",
      "5  (18908791.0, 22577824.0]      1   \n",
      "6  (22577824.0, 26246857.0]      1   \n",
      "7  (26246857.0, 29915890.0]      0   \n",
      "8  (29915890.0, 33584923.0]      0   \n",
      "9  (33584923.0, 37253956.0]      1   \n",
      "\n",
      "                                              States  \n",
      "0  WY,VT,ND,AK,SD,DE,MT,RI,NH,ME,HI,ID,NE,WV,NM,N...  \n",
      "1          KY,LA,SC,AL,CO,MN,WI,MD,MO,TN,AZ,IN,MA,WA  \n",
      "2                                  VA,NJ,NC,GA,MI,OH  \n",
      "3                                              PA,IL  \n",
      "4                                                 FL  \n",
      "5                                                 NY  \n",
      "6                                                 TX  \n",
      "7                                                     \n",
      "8                                                     \n",
      "9                                                 CA  \n"
     ]
    }
   ],
   "source": [
    "# Table 1.5\n",
    "bins.name = 'binnedPopulation'\n",
    "df = pd.concat([data, bins], axis=1)\n",
    "df = df.sort_values(by='Population')\n",
    "\n",
    "groups = []\n",
    "for group, subset in df.groupby(by='binnedPopulation'):\n",
    "    groups.append({\n",
    "        'BinRange': group,\n",
    "        'Count': len(subset),\n",
    "        'States': ','.join(subset.Abbreviation)\n",
    "    })\n",
    "print(pd.DataFrame(groups))"
   ]
  },
  {
   "cell_type": "code",
   "execution_count": 53,
   "metadata": {},
   "outputs": [
    {
     "data": {
      "image/png": "[encoded data removed]",
      "text/plain": [
       "<Figure size 400x400 with 1 Axes>"
      ]
     },
     "metadata": {},
     "output_type": "display_data"
    }
   ],
   "source": [
    "hist = (data[\"Population\"] / 1_000_000).plot.hist(figsize=(4, 4))\n",
    "plt.show()"
   ]
  },
  {
   "attachments": {},
   "cell_type": "markdown",
   "metadata": {},
   "source": [
    "<h3>Density Estimates</h3>"
   ]
  },
  {
   "cell_type": "code",
   "execution_count": 54,
   "metadata": {},
   "outputs": [
    {
     "data": {
      "image/png": "[encoded data removed]",
      "text/plain": [
       "<Figure size 400x400 with 1 Axes>"
      ]
     },
     "metadata": {},
     "output_type": "display_data"
    }
   ],
   "source": [
    "ax = data['Murder.Rate'].plot.hist(density=True, xlim=[0, 12], \n",
    "                                    bins=range(1,12), figsize=(4, 4))\n",
    "data['Murder.Rate'].plot.density(ax=ax)\n",
    "ax.set_xlabel('Murder Rate (per 100,000)')\n",
    "\n",
    "plt.tight_layout()\n",
    "plt.show()"
   ]
  },
  {
   "cell_type": "code",
   "execution_count": null,
   "metadata": {},
   "outputs": [],
   "source": []
  }
 ],
 "metadata": {
  "kernelspec": {
   "display_name": "Python 3",
   "language": "python",
   "name": "python3"
  },
  "language_info": {
   "codemirror_mode": {
    "name": "ipython",
    "version": 3
   },
   "file_extension": ".py",
   "mimetype": "text/x-python",
   "name": "python",
   "nbconvert_exporter": "python",
   "pygments_lexer": "ipython3",
   "version": "3.10.6 (tags/v3.10.6:9c7b4bd, Aug  1 2022, 21:53:49) [MSC v.1932 64 bit (AMD64)]"
  },
  "orig_nbformat": 4,
  "vscode": {
   "interpreter": {
    "hash": "767d8f497369a6862caa70ea7aeba41af32b677438def800d3ac263a4f09d01d"
   }
  }
 },
 "nbformat": 4,
 "nbformat_minor": 2
}
